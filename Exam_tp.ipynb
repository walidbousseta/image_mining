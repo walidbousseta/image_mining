{
 "cells": [
  {
   "cell_type": "code",
   "execution_count": 1,
   "metadata": {},
   "outputs": [],
   "source": [
    "import sys\n",
    "import warnings\n",
    "\n",
    "if not sys.warnoptions:\n",
    "    warnings.simplefilter(\"ignore\")\n",
    "\n",
    "\n",
    "import numpy as np\n",
    "import cv2\n",
    "import matplotlib.image as mpimg\n",
    "import matplotlib.pyplot as plt\n",
    "import glob"
   ]
  },
  {
   "cell_type": "code",
   "execution_count": 2,
   "metadata": {},
   "outputs": [],
   "source": [
    "import pandas as pd\n",
    "import numpy as np\n",
    "\n",
    "train = pd.read_csv('ISIC-2017_Training_Classes.csv', names=['image_id', 'melanoma'], skiprows=1)\n",
    "valide = pd.read_csv('ISIC-2017_Validation_Classes.csv', names=['image_id', 'melanoma'], skiprows=1)\n"
   ]
  },
  {
   "cell_type": "code",
   "execution_count": 3,
   "metadata": {},
   "outputs": [],
   "source": [
    "train_im = []\n",
    "\n",
    "path = 'ISIC-2017_Training_Data'\n",
    "for f in train.image_id:\n",
    "    ab_path = path+'/'+str(f)+'.jpg'\n",
    "    im = mpimg.imread(ab_path)\n",
    "    train_im.append(im)\n"
   ]
  },
  {
   "cell_type": "code",
   "execution_count": 4,
   "metadata": {},
   "outputs": [],
   "source": [
    "valide_im = []\n",
    "\n",
    "path = 'ISIC-2017_Validation_Data'\n",
    "for f in valide.image_id:\n",
    "    ab_path = path+'/'+str(f)+'.jpg'\n",
    "    im = mpimg.imread(ab_path)\n",
    "    valide_im.append(im)"
   ]
  },
  {
   "cell_type": "code",
   "execution_count": 5,
   "metadata": {},
   "outputs": [],
   "source": [
    "from d_feautre import *\n",
    "\n",
    "def creatFeature(images):\n",
    "    res = []\n",
    "    for im in images:\n",
    "        fd_hu = d_hu_moments(im)\n",
    "        fd_ha = d_haralick(im)\n",
    "        fd_hi = d_histogram(im)\n",
    "        dc = d_color_moment(im)\n",
    "        res.append(np.hstack((fd_hu,fd_ha,fd_hi, dc)))\n",
    "    \n",
    "    return res"
   ]
  },
  {
   "cell_type": "code",
   "execution_count": 6,
   "metadata": {},
   "outputs": [],
   "source": [
    "train_f = creatFeature(train_im)"
   ]
  },
  {
   "cell_type": "code",
   "execution_count": 7,
   "metadata": {},
   "outputs": [],
   "source": [
    "valide_f = creatFeature(valide_im)"
   ]
  },
  {
   "cell_type": "code",
   "execution_count": 38,
   "metadata": {},
   "outputs": [],
   "source": [
    "from sklearn.feature_selection import VarianceThreshold\n",
    "\n",
    "def vart(X_tr, X_ts ):\n",
    "    sel = VarianceThreshold()\n",
    "    train_ = sel.fit_transform(X_tr)\n",
    "    p = sel.get_support()\n",
    "    valide_ = [[x for x,t in zip(im_X, p) if t] for im_X in X_ts]\n",
    "\n",
    "    return train_, valide_\n",
    "    "
   ]
  },
  {
   "cell_type": "code",
   "execution_count": 36,
   "metadata": {},
   "outputs": [],
   "source": [
    "from sklearn.feature_selection import SelectKBest, f_classif\n",
    "\n",
    "def sbest(X_tr, y_tr, X_ts , k):\n",
    "    bestK = SelectKBest(f_classif, k)\n",
    "    train_ = bestK.fit_transform(X_tr, y_tr)\n",
    "    p = bestK.get_support()\n",
    "    valide_ = [[x for x,t in zip(im_X, p) if t] for im_X in X_ts]\n",
    "    \n",
    "    return train_, valide_\n",
    "    \n"
   ]
  },
  {
   "cell_type": "code",
   "execution_count": 47,
   "metadata": {},
   "outputs": [],
   "source": [
    "from sklearn import svm\n",
    "from sklearn.metrics import accuracy_score\n",
    "from sklearn.metrics import confusion_matrix\n",
    "\n",
    "def c_svm(X_tr, y_tr, X_ts, y_ts):\n",
    "    clf = svm.SVC(gamma='scale')\n",
    "    clf.fit(X_tr, y_tr) \n",
    "    lab = clf.predict(X_ts)\n",
    "    acc = accuracy_score(y_ts, lab) * 100\n",
    "    return acc, confusion_matrix(y_ts, lab), lab\n"
   ]
  },
  {
   "cell_type": "code",
   "execution_count": 48,
   "metadata": {},
   "outputs": [],
   "source": [
    "from sklearn.neighbors import KNeighborsClassifier\n",
    "\n",
    "def knn(X_tr, y_tr, X_ts, y_ts, k):\n",
    "    neigh = KNeighborsClassifier(n_neighbors=k)\n",
    "    neigh.fit(X_tr, y_tr)\n",
    "    labels = neigh.predict(X_ts)\n",
    "    acc = accuracy_score(y_ts, labels) * 100\n",
    "    return acc, confusion_matrix(y_ts, labels), labels"
   ]
  },
  {
   "cell_type": "code",
   "execution_count": 49,
   "metadata": {},
   "outputs": [],
   "source": [
    "from sklearn.naive_bayes import GaussianNB\n",
    "\n",
    "def gnb(X_tr, y_tr, X_ts, y_ts):\n",
    "    clf = GaussianNB()\n",
    "    clf.fit(X_tr, y_tr)\n",
    "    GaussianNB(priors=None, var_smoothing=1e-09)\n",
    "    nb_lab = clf.predict(X_ts)\n",
    "    acc = accuracy_score(y_ts, nb_lab) * 100\n",
    "    return acc, confusion_matrix(y_ts, nb_lab), nb_lab\n"
   ]
  },
  {
   "cell_type": "code",
   "execution_count": 50,
   "metadata": {},
   "outputs": [],
   "source": [
    "from sklearn import tree\n",
    "\n",
    "def trd(X_tr, y_tr, X_ts, y_ts):\n",
    "    clf = tree.DecisionTreeClassifier()\n",
    "    clf = clf.fit(X_tr, y_tr)\n",
    "    t_lab = clf.predict(X_ts)\n",
    "    acc = accuracy_score(y_ts, t_lab) * 100\n",
    "    return acc, confusion_matrix(y_ts, t_lab), t_lab\n"
   ]
  },
  {
   "cell_type": "code",
   "execution_count": 14,
   "metadata": {},
   "outputs": [],
   "source": [
    "def models(X_tr, y_tr, X_ts, y_ts, k):\n",
    "    print('svm : ')\n",
    "    r_svm = c_svm(X_tr, y_tr, X_ts, y_ts)\n",
    "    print(r_svm[0], '\\n', r_svm[1])\n",
    "    \n",
    "    print('--'*20)\n",
    "    print('knn : ')\n",
    "    r_knn = knn(X_tr, y_tr, X_ts, y_ts, k)\n",
    "    print(r_knn[0], '\\n', r_knn[1])\n",
    "    \n",
    "    print('--'*20)\n",
    "    print('gnb : ')\n",
    "    r_gnb = gnb(X_tr, y_tr, X_ts, y_ts)\n",
    "    print(r_gnb[0], '\\n', r_gnb[1])\n",
    "    \n",
    "    print('--'*20)\n",
    "    print('tree : ')\n",
    "    r_t = trd(X_tr, y_tr, X_ts, y_ts)\n",
    "    print(r_t[0], '\\n', r_t[1])"
   ]
  },
  {
   "cell_type": "code",
   "execution_count": 144,
   "metadata": {},
   "outputs": [
    {
     "name": "stdout",
     "output_type": "stream",
     "text": [
      "svm : \n",
      "80.0 \n",
      " [[120   0]\n",
      " [ 30   0]]\n",
      "----------------------------------------\n",
      "knn : \n",
      "79.33333333333333 \n",
      " [[119   1]\n",
      " [ 30   0]]\n",
      "----------------------------------------\n",
      "gnb : \n",
      "78.66666666666666 \n",
      " [[108  12]\n",
      " [ 20  10]]\n",
      "----------------------------------------\n",
      "tree : \n",
      "70.0 \n",
      " [[100  20]\n",
      " [ 25   5]]\n"
     ]
    }
   ],
   "source": [
    "# sbest(15)\n",
    "train_f2, valide_f2 = vart(train_f, valide_f)\n",
    "models(train_f2, train.melanoma, valide_f2, valide.melanoma, 10)"
   ]
  },
  {
   "cell_type": "code",
   "execution_count": 177,
   "metadata": {},
   "outputs": [
    {
     "name": "stdout",
     "output_type": "stream",
     "text": [
      "86.5\n"
     ]
    },
    {
     "data": {
      "text/plain": [
       "array([[165,   3],\n",
       "       [ 24,   8]], dtype=int64)"
      ]
     },
     "execution_count": 177,
     "metadata": {},
     "output_type": "execute_result"
    }
   ],
   "source": [
    "from sklearn.model_selection import train_test_split\n",
    "\n",
    "X_train, X_test, y_train, y_test = train_test_split(train_f, train.melanoma, test_size=0.9)\n",
    "X_train, X_test = vart(X_train, X_test)\n",
    "c_svmr = c_svm(X_train, y_train, X_train, y_train)\n",
    "\n",
    "print(c_svmr[0])\n",
    "c_svmr[1]"
   ]
  },
  {
   "cell_type": "code",
   "execution_count": 178,
   "metadata": {},
   "outputs": [
    {
     "name": "stdout",
     "output_type": "stream",
     "text": [
      "svm : \n",
      "86.5 \n",
      " [[165   3]\n",
      " [ 24   8]]\n",
      "----------------------------------------\n",
      "knn : \n",
      "84.5 \n",
      " [[166   2]\n",
      " [ 29   3]]\n",
      "----------------------------------------\n",
      "gnb : \n",
      "71.5 \n",
      " [[121  47]\n",
      " [ 10  22]]\n",
      "----------------------------------------\n",
      "tree : \n",
      "100.0 \n",
      " [[168   0]\n",
      " [  0  32]]\n"
     ]
    }
   ],
   "source": [
    "models(X_train, y_train, X_train, y_train, 10)"
   ]
  },
  {
   "cell_type": "code",
   "execution_count": null,
   "metadata": {},
   "outputs": [],
   "source": []
  },
  {
   "cell_type": "code",
   "execution_count": null,
   "metadata": {},
   "outputs": [],
   "source": []
  },
  {
   "cell_type": "code",
   "execution_count": null,
   "metadata": {},
   "outputs": [],
   "source": []
  }
 ],
 "metadata": {
  "kernelspec": {
   "display_name": "Python 3",
   "language": "python",
   "name": "python3"
  },
  "language_info": {
   "codemirror_mode": {
    "name": "ipython",
    "version": 3
   },
   "file_extension": ".py",
   "mimetype": "text/x-python",
   "name": "python",
   "nbconvert_exporter": "python",
   "pygments_lexer": "ipython3",
   "version": "3.6.5"
  }
 },
 "nbformat": 4,
 "nbformat_minor": 2
}
